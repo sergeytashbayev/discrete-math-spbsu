{
 "cells": [
  {
   "cell_type": "markdown",
   "metadata": {},
   "source": [
    "# Combinatorics"
   ]
  },
  {
   "cell_type": "markdown",
   "metadata": {},
   "source": [
    "## Rule of Sum\n",
    "If there are $n$ objects of the first type and there are $k$ objects of the second type, then there are $n + k$ objects of one of two types: If $A \\cap B = \\emptyset$, then $|A \\cup B|=|A|+|B|$."
   ]
  },
  {
   "cell_type": "code",
   "execution_count": null,
   "metadata": {},
   "outputs": [],
   "source": [
    "print(['Alice', 'Bob', 'Charlie'] + [0, 1, 2, 3, 4])"
   ]
  },
  {
   "cell_type": "markdown",
   "metadata": {},
   "source": [
    "## Rule of Product, Tuples\n",
    "If there are $n$ objects of the first type and there are $k$ objects of the second type, then there are $nk$ pairs of objects, the first of the first type and the second of the second type: $|A \\times B|=|A| \\cdot |B|$."
   ]
  },
  {
   "cell_type": "code",
   "execution_count": null,
   "metadata": {},
   "outputs": [],
   "source": [
    "import itertools\n",
    "print(list(itertools.product(['a', 'b', 'c'], ['x', 'y'])))"
   ]
  },
  {
   "cell_type": "markdown",
   "metadata": {},
   "source": [
    "The number of words of length $k$ over an alphabet of size $n$ is $n^k$."
   ]
  },
  {
   "cell_type": "code",
   "execution_count": null,
   "metadata": {},
   "outputs": [],
   "source": [
    "print(list(itertools.product(\"ab\", repeat=3)))"
   ]
  },
  {
   "cell_type": "markdown",
   "metadata": {},
   "source": [
    "## Permutations\n",
    "The number of sequences of length $k$ with no repetitions composed out of $n$ symbols is $n(n − 1)\\cdots (n − k + 1) = \\frac{n!}{(n-k)!}$."
   ]
  },
  {
   "cell_type": "code",
   "execution_count": null,
   "metadata": {},
   "outputs": [],
   "source": [
    "print(list(itertools.permutations(\"abcd\", 2)))"
   ]
  },
  {
   "cell_type": "markdown",
   "metadata": {},
   "source": [
    "## Combinations\n",
    "The number of ways to select $k$ out of $n$ objects is $\\binom{n}{k}=\\frac{n!}{k!\\cdot (n-k)!}$."
   ]
  },
  {
   "cell_type": "code",
   "execution_count": null,
   "metadata": {},
   "outputs": [],
   "source": [
    "print(list(itertools.combinations(\"abcdefgh\" , 2)))"
   ]
  },
  {
   "cell_type": "markdown",
   "metadata": {},
   "source": [
    "## Pascal Triangle\n",
    "\n",
    "<img src=\"images/pascaltriangle.png\" width=\"400\"/>"
   ]
  },
  {
   "cell_type": "code",
   "execution_count": null,
   "metadata": {},
   "outputs": [],
   "source": [
    "C = dict () # C([n,k]) is equal to n choose k\n",
    "\n",
    "for n in range(8): \n",
    "    C[n, 0] = 1 \n",
    "    C[n, n] = 1\n",
    "    for k in range(1, n):\n",
    "        C[n, k] = C[n - 1, k - 1] + C[n - 1, k]\n",
    "\n",
    "print(C[7 , 4])"
   ]
  },
  {
   "cell_type": "markdown",
   "metadata": {},
   "source": [
    "### Properties\n",
    "\n",
    "* $\\binom{n}{k}=\\binom{n}{n-k}$\n",
    "<img src=\"images/pascaltrianglesymmetry.png\" width=\"400\"/>\n",
    "* $\\binom{n}{0}+\\binom{n}{1}+\\dotsc+\\binom{n}{n}=2^n$\n",
    "<img src=\"images/rowsum.png\" width=\"400\"/>\n",
    "* For $n>0$, $\\sum_{k=0}^{n}(-1)^k\\binom{n}{k}=0$\n",
    "<img src=\"images/altrowsum.png\" width=\"400\"/>\n"
   ]
  },
  {
   "attachments": {},
   "cell_type": "markdown",
   "metadata": {},
   "source": [
    "## Binomial Theorem\n",
    "\n",
    "<img src=\"images/binomialtheorem.png\" width=\"400\"/>"
   ]
  },
  {
   "cell_type": "markdown",
   "metadata": {},
   "source": [
    "## Partititions\n",
    "The number of non-negative integer solutions to $x_1+x_2+\\dotsc+x_k=n$ is $\\binom{n+k-1}{n}$, the number of positive solutions is $\\binom{n-1}{n-k}$."
   ]
  }
 ],
 "metadata": {
  "kernelspec": {
   "display_name": "Python 3",
   "language": "python",
   "name": "python3"
  },
  "language_info": {
   "codemirror_mode": {
    "name": "ipython",
    "version": 3
   },
   "file_extension": ".py",
   "mimetype": "text/x-python",
   "name": "python",
   "nbconvert_exporter": "python",
   "pygments_lexer": "ipython3",
   "version": "3.6.5"
  }
 },
 "nbformat": 4,
 "nbformat_minor": 2
}
