{
 "cells": [
  {
   "cell_type": "markdown",
   "metadata": {},
   "source": [
    "# Catalan Numbers\n",
    "\n",
    "How many ways are there to form a valid sequence of $n$ open and $n$ closed parentheses? The corresponding sequence $C_n$ of numbers is known as _Catalan numbers_. \n",
    "\n",
    "## Generating Valid Sequences of Parentheses\n",
    "\n",
    "$C_n$ satisfies the following recurrence relation: $C_0=1$ and for $n \\ge 1$, $$C_n = \\sum_{k=0}^{n-1}C_kC_{n-k-1} \\,.$$ The following recursive procedure implements this recurrence relation to generate all valid sequences of parentheses."
   ]
  },
  {
   "cell_type": "code",
   "execution_count": null,
   "metadata": {},
   "outputs": [],
   "source": [
    "from itertools import product\n",
    "\n",
    "def generate(n):\n",
    "    if n == 0:\n",
    "        return [\"\"]\n",
    "\n",
    "    sequences = []\n",
    "\n",
    "    for k in range(n):\n",
    "        for (left, right) in product(generate(k), generate(n - k - 1)):\n",
    "            sequences.append(\"({}){}\".format(left, right))\n",
    "\n",
    "    return sequences"
   ]
  },
  {
   "cell_type": "markdown",
   "metadata": {},
   "source": [
    "Let's use this function to generate all valid sequences for small values of $n$."
   ]
  },
  {
   "cell_type": "code",
   "execution_count": null,
   "metadata": {},
   "outputs": [],
   "source": [
    "for n in range(2, 6):\n",
    "    sequences = generate(n)\n",
    "    print(\"For n={}, there are {} valid sequences: {}\\n\".format(n, len(sequences), \", \".join(sequences)))"
   ]
  },
  {
   "cell_type": "markdown",
   "metadata": {},
   "source": [
    "## Proving the Formula\n",
    "Remarkably, there is a closed form expression for Catalan numbers: $$C_n=\\frac{1}{n+1}\\cdot \\binom{2n}{n} .$$\n",
    "To show this, consider all possible sequences consisting of $n+1$ open and $n$ closed parentheses. Call such a sequence _good_ if any its non-empty prefix contains more open parentheses than closed parentheses. It is not difficult to see that good sequences are in one-to-one correspondence with valid sequences consisting of $n$ open and $n$ closed parentheses. In turn, for any sequence consisting of $n+1$ open and $n$ closed parentheses there exists exactly one good cyclic shift. The code below illustrates this: every row corresponds to all cyclic shifts of a particular sequence; the good cyclic shift is marked. It follows that \n",
    "$$C_n=\\frac{1}{2n+1}\\cdot \\binom{2n+1}{n}=\\frac{1}{n+1}\\cdot \\binom{2n}{n}.$$"
   ]
  },
  {
   "cell_type": "code",
   "execution_count": null,
   "metadata": {},
   "outputs": [],
   "source": [
    "from itertools import combinations\n",
    "\n",
    "def table(n):\n",
    "    for open_brace_indices in combinations(range(2 * n + 1), n):\n",
    "        permutation = ['(' for _ in range(2 * n + 1)]\n",
    "        for position in open_brace_indices:\n",
    "            permutation[position] = ')'\n",
    "        for start_index in range(len(permutation)):\n",
    "            cyclic_shift = permutation[start_index:] + permutation[:start_index]\n",
    "            print(\"\".join(cyclic_shift), end=\"\")\n",
    "            if all(cyclic_shift[:i].count(\"(\") > cyclic_shift[:i].count(\")\")\n",
    "                   for i in range(1, len(permutation))):\n",
    "                print(\"* \", end=\"\")\n",
    "            else:\n",
    "                print(\"  \", end=\"\")\n",
    "        print(\"\")\n",
    "\n",
    "table(3)"
   ]
  }
 ],
 "metadata": {
  "kernelspec": {
   "display_name": "Python 3",
   "language": "python",
   "name": "python3"
  },
  "language_info": {
   "codemirror_mode": {
    "name": "ipython",
    "version": 3
   },
   "file_extension": ".py",
   "mimetype": "text/x-python",
   "name": "python",
   "nbconvert_exporter": "python",
   "pygments_lexer": "ipython3",
   "version": "3.6.5"
  }
 },
 "nbformat": 4,
 "nbformat_minor": 1
}
