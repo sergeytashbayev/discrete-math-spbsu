{
 "cells": [
  {
   "cell_type": "markdown",
   "metadata": {},
   "source": [
    "# Catalan Numbers\n",
    "\n",
    "How many ways are there to form a valid sequence of $n$ open and $n$ closed parenthesis? The corresponding sequence $C_n$ of numbers is known as _Catalan numbers_. \n",
    "\n",
    "## Generating Valid Sequences of Parentheses\n",
    "\n",
    "$C_n$ satisfies the following recurrence relation: $C_0=1$ and for $n \\ge 1$, $$C_n = \\sum_{k=0}^{n-1}C_kC_{n-k-1} \\,.$$ The following recursive procedure implements this recurrence relation to generate all valid sequences of parentheses."
   ]
  },
  {
   "cell_type": "code",
   "execution_count": null,
   "metadata": {},
   "outputs": [],
   "source": [
    "from itertools import product, combinations\n",
    "\n",
    "def generate(n):\n",
    "    if n == 0:\n",
    "        return [\"\"]\n",
    "\n",
    "    sequences = []\n",
    "\n",
    "    for k in range(n):\n",
    "        for (left, right) in product(generate(k), generate(n - k - 1)):\n",
    "            sequences.append(\"({}){}\".format(left, right))\n",
    "\n",
    "    return sequences"
   ]
  },
  {
   "cell_type": "markdown",
   "metadata": {},
   "source": [
    "Let's use this function to generate all valid sequences for small values of $n$."
   ]
  },
  {
   "cell_type": "code",
   "execution_count": null,
   "metadata": {},
   "outputs": [],
   "source": [
    "for n in range(2, 6):\n",
    "    sequences = generate(n)\n",
    "    print(\"For n={}, there are {} valid sequences: {}\\n\".format(n, len(sequences), \", \".join(sequences)))"
   ]
  }
 ],
 "metadata": {
  "kernelspec": {
   "display_name": "Python 3",
   "language": "python",
   "name": "python3"
  },
  "language_info": {
   "codemirror_mode": {
    "name": "ipython",
    "version": 3
   },
   "file_extension": ".py",
   "mimetype": "text/x-python",
   "name": "python",
   "nbconvert_exporter": "python",
   "pygments_lexer": "ipython3",
   "version": "3.6.5"
  }
 },
 "nbformat": 4,
 "nbformat_minor": 1
}
