{
 "cells": [
  {
   "cell_type": "code",
   "execution_count": null,
   "metadata": {
    "collapsed": true
   },
   "outputs": [],
   "source": [
    "from itertools import product, combinations"
   ]
  },
  {
   "cell_type": "markdown",
   "metadata": {},
   "source": [
    "How many ways are there to form a valid sequence of $n$ open and $n$ closed parenthesis? The corresponding sequence $C_n$ of numbers is known as _Catalan numbers_. $C_n$ satisfies the following recurrence relation: $C_0=1$ and for $n \\ge 1$, $$C_n = \\sum_{k=0}^{n-1}C_kC_{n-k-1} \\,.$$ The following recursive procedure implements this recurrence relation to generate all valid sequences of parentheses."
   ]
  },
  {
   "cell_type": "code",
   "execution_count": null,
   "metadata": {},
   "outputs": [],
   "source": [
    "def generate(n):\n",
    "    if n == 0:\n",
    "        return [\"\"]\n",
    "\n",
    "    result = []\n",
    "\n",
    "    for k in range(n):\n",
    "        for (left, right) in product(generate(k), generate(n - k - 1)):\n",
    "            result.append(\"({}){}\".format(left, right))\n",
    "\n",
    "    return result"
   ]
  },
  {
   "cell_type": "markdown",
   "metadata": {},
   "source": [
    "Let's use this function to generate all valid sequences for small values of $n$."
   ]
  },
  {
   "cell_type": "code",
   "execution_count": null,
   "metadata": {},
   "outputs": [],
   "source": [
    "for n in range(1, 5):\n",
    "    sequences = generate(n)\n",
    "    print(\"For n={} there are {} valid sequences: {}\".\n",
    "          format(n, len(sequences)), \", \".join(sequences))"
   ]
  }
 ],
 "metadata": {
  "kernelspec": {
   "display_name": "Python 2",
   "language": "python",
   "name": "python2"
  },
  "language_info": {
   "codemirror_mode": {
    "name": "ipython",
    "version": 2.0
   },
   "file_extension": ".py",
   "mimetype": "text/x-python",
   "name": "python",
   "nbconvert_exporter": "python",
   "pygments_lexer": "ipython2",
   "version": "2.7.6"
  }
 },
 "nbformat": 4,
 "nbformat_minor": 0
}