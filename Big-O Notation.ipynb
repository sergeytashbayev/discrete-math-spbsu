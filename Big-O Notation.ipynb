{
 "cells": [
  {
   "cell_type": "markdown",
   "metadata": {},
   "source": [
    "We start by loading two modules responsible for plotting."
   ]
  },
  {
   "cell_type": "code",
   "execution_count": null,
   "metadata": {},
   "outputs": [],
   "source": [
    "%matplotlib inline\n",
    "import matplotlib.pyplot as plt\n",
    "import numpy as np"
   ]
  },
  {
   "cell_type": "markdown",
   "metadata": {},
   "source": [
    "Now, plotting a function is as easy as the following three lines of code. It shows the plot of a function $7x^2+6x+5$ in the range $1 \\le x \\le 100$. Note that the scale of the $y$-axis adjusts nicely."
   ]
  },
  {
   "cell_type": "code",
   "execution_count": null,
   "metadata": {},
   "outputs": [],
   "source": [
    "x = np.linspace(1, 100)\n",
    "plt.plot(x, 7 * x * x + 6 * x + 5)\n",
    "plt.show()"
   ]
  },
  {
   "cell_type": "markdown",
   "metadata": {},
   "source": [
    "## Lower order summands can be omitted\n",
    "\n",
    "As we know already, both $6x$ and $5$ grow slower than $7x^2$. For this reason, they can be omitted. To visualize this let's first plot the functions $7x^2+6x+5$ and $7x^2$ for $1 \\le x \\le 5$."
   ]
  },
  {
   "cell_type": "code",
   "execution_count": null,
   "metadata": {},
   "outputs": [],
   "source": [
    "x = np.linspace(1, 5)\n",
    "plt.plot(x, 7 * x * x + 6 * x + 5, label=\"7x^2+6x+5\")\n",
    "plt.plot(x, 7 * x * x, label=\"7x^2\")\n",
    "plt.legend(loc='upper left')\n",
    "plt.show()"
   ]
  },
  {
   "cell_type": "markdown",
   "metadata": {},
   "source": [
    "As expected, $7x^2+6x+5$ is always larger than $7x^2$ (as $x$ is positive). Next, we plot the same two functions but for $1 \\le x \\le 100$. We see that as $x$ grows, the contribution of $6x+5$ becomes more and more negligible."
   ]
  },
  {
   "cell_type": "code",
   "execution_count": null,
   "metadata": {},
   "outputs": [],
   "source": [
    "x = np.linspace(1, 100)\n",
    "plt.plot(x, 7 * x * x + 6 * x + 5, label=\"7x^2+6x+5\")\n",
    "plt.plot(x, 7 * x * x, label=\"7x^2\")\n",
    "plt.legend(loc='upper left')\n",
    "plt.show()"
   ]
  },
  {
   "cell_type": "markdown",
   "metadata": {},
   "source": [
    "Another way of justifying this, is to plot the function $\\frac{7x^2+6x+5}{7x^2}$. As we see, as $x$ grows, it approaches 1."
   ]
  },
  {
   "cell_type": "code",
   "execution_count": null,
   "metadata": {},
   "outputs": [],
   "source": [
    "x = np.linspace(1, 100)\n",
    "plt.plot(x, (7 * x * x + 6 * x + 5)/(7 * x * x))\n",
    "plt.show()"
   ]
  },
  {
   "cell_type": "markdown",
   "metadata": {},
   "source": [
    "## Multiplicative constants can be ommitted\n",
    "\n",
    "In terms of big-O notation, $7x^2+6x+5=O(x^2)$, i.e., $7x^2+6x+5$ grows no faster than $x^2$. This again can be visualized by plotting their fraction. As we see, their fraction is always at most 18 and approaches 7. In other words, $7x^2+6x+5 \\le 18x^2$ for all $x \\ge 1$."
   ]
  },
  {
   "cell_type": "code",
   "execution_count": null,
   "metadata": {},
   "outputs": [],
   "source": [
    "x = np.linspace(1, 100)\n",
    "plt.plot(x, (7 * x * x + 6 * x + 5)/(x * x))\n",
    "plt.show()"
   ]
  },
  {
   "cell_type": "markdown",
   "metadata": {},
   "source": [
    "## Comparing polynomials\n",
    "\n",
    "For constants $a > b > 0$, $n^a$ grows faster than $n^b$. This, in particular, means that $n^b=O(n^a)$. To visualize it, let's plot $x$, $x^2$, and $x^3$."
   ]
  },
  {
   "cell_type": "code",
   "execution_count": null,
   "metadata": {},
   "outputs": [],
   "source": [
    "x = np.linspace(1, 10)\n",
    "plt.plot(x, x, label=\"x\")\n",
    "plt.plot(x, x * x, label=\"x^2\")\n",
    "plt.plot(x, x * x * x, label=\"x^3\")\n",
    "plt.legend(loc='upper left')\n",
    "plt.show()"
   ]
  },
  {
   "cell_type": "markdown",
   "metadata": {},
   "source": [
    "Let's now see what happens on a bigger scale: instead of the range $1 \\le x \\le 10$, consider the range $1 \\le x \\le 100$."
   ]
  },
  {
   "cell_type": "code",
   "execution_count": null,
   "metadata": {},
   "outputs": [],
   "source": [
    "x = np.linspace(1, 100)\n",
    "plt.plot(x, x, label=\"x\")\n",
    "plt.plot(x, x * x, label=\"x^2\")\n",
    "plt.plot(x, x * x * x, label=\"x^3\")\n",
    "plt.legend(loc='upper left')\n",
    "plt.show()"
   ]
  },
  {
   "cell_type": "code",
   "execution_count": null,
   "metadata": {},
   "outputs": [],
   "source": []
  }
 ],
 "metadata": {
  "kernelspec": {
   "display_name": "Python 3",
   "language": "python",
   "name": "python3"
  },
  "language_info": {
   "codemirror_mode": {
    "name": "ipython",
    "version": 3
   },
   "file_extension": ".py",
   "mimetype": "text/x-python",
   "name": "python",
   "nbconvert_exporter": "python",
   "pygments_lexer": "ipython3",
   "version": "3.6.5"
  }
 },
 "nbformat": 4,
 "nbformat_minor": 2
}
