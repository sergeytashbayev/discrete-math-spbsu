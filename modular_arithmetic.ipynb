{
 "cells": [
  {
   "cell_type": "markdown",
   "metadata": {},
   "source": [
    "# Modular Arithmetic"
   ]
  },
  {
   "cell_type": "markdown",
   "metadata": {},
   "source": [
    "## Euclid's Algorithm\n",
    "The following algorithm, given two non-negative integers $a$ and $b$, computes their greatest common divisor $d$ as well as its linear combination as $d=ax+by$. For this, we first consider the case $b=0$: then $d=a$ and $d=1 \\cdot a + 0 \\cdot b$. Otherwise, we make a recursive call to find a triple $(d, x, y)$ such that $d=x \\cdot b + y \\cdot (a \\bmod b)$. Then, $d=x \\cdot b + y \\cdot (a \\bmod b)=x \\cdot b + y \\cdot (a - \\lfloor \\frac ab \\rfloor \\cdot b) = y \\cdot a + (x-\\lfloor \\frac ab \\rfloor \\cdot y) \\cdot b$."
   ]
  },
  {
   "cell_type": "code",
   "execution_count": 1,
   "metadata": {},
   "outputs": [],
   "source": [
    "def extended_euclid(a, b):\n",
    "    if b == 0:\n",
    "        return (a, 1, 0)\n",
    "    (d, x, y) = extended_euclid(b, a % b)\n",
    "    return (d, y, x - (a // b) * y)"
   ]
  },
  {
   "cell_type": "code",
   "execution_count": 4,
   "metadata": {},
   "outputs": [
    {
     "name": "stdout",
     "output_type": "stream",
     "text": [
      "The greatest common divisor of 5 and 7 is 1: 1=5*3+7*-2\n",
      "The greatest common divisor of 6 and 8 is 2: 2=6*-1+8*1\n",
      "The greatest common divisor of 9 and 18 is 9: 9=9*1+18*0\n",
      "The greatest common divisor of 307983627 and 9097422 is 543: 543=307983627*7059+9097422*-238975\n",
      "The greatest common divisor of 33269915070672605169415 and 1624839375846662197519665903669736 is 186436501: 186436501=33269915070672605169415*-1029054988329124573620253+1624839375846662197519665903669736*21070742483036\n"
     ]
    }
   ],
   "source": [
    "for (a, b) in [(5, 7), (6, 8), (9, 18), (307983627, 9097422), (33269915070672605169415, 1624839375846662197519665903669736)]:\n",
    "    (d, x, y) = extended_euclid(a, b)\n",
    "    print(\"The greatest common divisor of {} and {} is {}: {}={}*{}+{}*{}\".format(a, b, d, d, a, x, b, y))"
   ]
  },
  {
   "cell_type": "markdown",
   "metadata": {},
   "source": [
    "## Modular Exponentiation\n",
    "The following procedure computes $a^k \\bmod{m}$ using the repeated squaring idea."
   ]
  },
  {
   "cell_type": "code",
   "execution_count": 5,
   "metadata": {},
   "outputs": [],
   "source": [
    "def modular_exponentiation(a, k, m):\n",
    "    assert m >= 2\n",
    "    if k == 0:\n",
    "        return 1\n",
    "    b = modular_exponentiation(a, k // 2, m)\n",
    "    if k % 2 == 0:\n",
    "        return (b * b) % m\n",
    "    else:\n",
    "        return (b * b * a) % m\n"
   ]
  },
  {
   "cell_type": "code",
   "execution_count": 6,
   "metadata": {},
   "outputs": [
    {
     "name": "stdout",
     "output_type": "stream",
     "text": [
      "The last digits of 5 to the 2 is 5\n",
      "The last digits of 7 to the 100 is 1\n",
      "The last digits of 239 to the 789 is 9\n",
      "The last digits of 3 to the 156187152426181527254959556325 is 3\n"
     ]
    }
   ],
   "source": [
    "for (a, k) in [(5, 2), (7, 100), (239, 789), (3, 156187152426181527254959556325)]:\n",
    "    r = modular_exponentiation(a, k, 10)\n",
    "    print(\"The last digits of {} to the {} is {}\".format(a, k, r))"
   ]
  },
  {
   "cell_type": "markdown",
   "metadata": {},
   "source": [
    "## Modular Division and Inverses\n",
    "The following procedure, given $a$ and $m$, computes $a^{-1} \\bmod m$. Recall that it exists iff $\\operatorname{gcd}(a, m)=1$. Then, we find integers $x$ and $y$ such that $1=a\\cdot x + m \\cdot y$. Hence $x \\bmod m$ is the inverse of $a$ modulo $m$."
   ]
  },
  {
   "cell_type": "code",
   "execution_count": 7,
   "metadata": {},
   "outputs": [],
   "source": [
    "def modulo_inverse(a, m):\n",
    "    (d, x, y) = extended_euclid(a, m)\n",
    "    assert d == 1\n",
    "    return x % m"
   ]
  },
  {
   "cell_type": "code",
   "execution_count": 8,
   "metadata": {},
   "outputs": [
    {
     "name": "stdout",
     "output_type": "stream",
     "text": [
      "The inverse of 3 modulo 7 is 5: indeed, 3*5=15=1 mod 7\n",
      "The inverse of 7 modulo 15 is 13: indeed, 7*13=91=1 mod 15\n",
      "The inverse of 18 modulo 239 is 93: indeed, 18*93=1674=1 mod 239\n"
     ]
    }
   ],
   "source": [
    "for (a, m) in [(3, 7), (7, 15), (18, 239)]:\n",
    "    i = modulo_inverse(a, m)\n",
    "    print(\"The inverse of {} modulo {} is {}: indeed, {}*{}={}={} mod {}\".format(a, m, i, a, i, a * i, (a * i) % m, m))"
   ]
  },
  {
   "cell_type": "markdown",
   "metadata": {},
   "source": [
    "## Chinese Remainder Theorem\n",
    "The following procedure, given $a, b, m, n$ where $\\operatorname{gcd}(n,m)=1$, find the unique integer $0 \\le x <mn$ \n",
    "such that $x \\equiv a \\pmod{m}$ and $x \\equiv b \\pmod{n}$. It is computed as \n",
    "$$(a\\cdot n \\cdot (n^{-1} \\bmod{m})+b\\cdot m \\cdot (m^{-1} \\bmod{n})) \\bmod{mn} \\, .$$"
   ]
  },
  {
   "cell_type": "code",
   "execution_count": 10,
   "metadata": {},
   "outputs": [],
   "source": [
    "def chinese_remainder(a, b, m, n):\n",
    "    return (a * n * modulo_inverse(n, m) + b * m * modulo_inverse(m, n)) % (m * n)"
   ]
  },
  {
   "cell_type": "code",
   "execution_count": 14,
   "metadata": {},
   "outputs": [
    {
     "name": "stdout",
     "output_type": "stream",
     "text": [
      "17=2 mod 5 and 17=3 mod 7\n",
      "724=7 mod 239 and 724=19 mod 5\n"
     ]
    }
   ],
   "source": [
    "for (a, b, m, n) in [(2, 3, 5, 7), (7, 19, 239, 5)]:\n",
    "    x = chinese_remainder(a, b, m, n)\n",
    "    print(\"{}={} mod {} and {}={} mod {}\".format(x, a, m, x, b, n))"
   ]
  },
  {
   "cell_type": "markdown",
   "metadata": {},
   "source": [
    "## RSA"
   ]
  }
 ],
 "metadata": {
  "kernelspec": {
   "display_name": "Python 3",
   "language": "python",
   "name": "python3"
  },
  "language_info": {
   "codemirror_mode": {
    "name": "ipython",
    "version": 3
   },
   "file_extension": ".py",
   "mimetype": "text/x-python",
   "name": "python",
   "nbconvert_exporter": "python",
   "pygments_lexer": "ipython3",
   "version": "3.6.5"
  }
 },
 "nbformat": 4,
 "nbformat_minor": 2
}
